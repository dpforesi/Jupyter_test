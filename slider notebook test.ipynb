{
 "cells": [
  {
   "cell_type": "code",
   "execution_count": 1,
   "metadata": {},
   "outputs": [
    {
     "data": {
      "application/vnd.jupyter.widget-view+json": {
       "model_id": "a2f07899f77146589d1d54708d90e89e",
       "version_major": 2,
       "version_minor": 0
      },
      "text/plain": [
       "interactive(children=(IntSlider(value=5, description='Number:', max=10), Output()), _dom_classes=('widget-inte…"
      ]
     },
     "execution_count": 1,
     "metadata": {},
     "output_type": "execute_result"
    }
   ],
   "source": [
    "import ipywidgets as widgets\n",
    "from IPython.display import display\n",
    "\n",
    "# Define a function that prints or returns something based on a variable\n",
    "def update_output(x):\n",
    "    print(f\"The square of {x} is {x**2}\")\n",
    "\n",
    "# Create a slider widget\n",
    "slider = widgets.IntSlider(\n",
    "    value=5,  # Default value\n",
    "    min=0,    # Minimum value\n",
    "    max=10,   # Maximum value\n",
    "    step=1,   # Step size\n",
    "    description='Number:',\n",
    ")\n",
    "\n",
    "# Use the interact function to connect the slider to the update_output function\n",
    "widgets.interactive(update_output, x=slider)"
   ]
  }
 ],
 "metadata": {
  "kernelspec": {
   "display_name": "Python 3",
   "language": "python",
   "name": "python3"
  },
  "language_info": {
   "codemirror_mode": {
    "name": "ipython",
    "version": 3
   },
   "file_extension": ".py",
   "mimetype": "text/x-python",
   "name": "python",
   "nbconvert_exporter": "python",
   "pygments_lexer": "ipython3",
   "version": "3.12.3"
  }
 },
 "nbformat": 4,
 "nbformat_minor": 2
}
